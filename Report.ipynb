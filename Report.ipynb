{
  "nbformat": 4,
  "nbformat_minor": 0,
  "metadata": {
    "colab": {
      "name": "Untitled0.ipynb",
      "version": "0.3.2",
      "provenance": [],
      "collapsed_sections": [],
      "include_colab_link": true
    },
    "kernelspec": {
      "name": "python2",
      "display_name": "Python 2"
    },
    "accelerator": "GPU"
  },
  "cells": [
    {
      "cell_type": "markdown",
      "metadata": {
        "id": "view-in-github",
        "colab_type": "text"
      },
      "source": [
        "<a href=\"https://colab.research.google.com/github/pnjha/APS_Project/blob/master/Report.ipynb\" target=\"_parent\"><img src=\"https://colab.research.google.com/assets/colab-badge.svg\" alt=\"Open In Colab\"/></a>"
      ]
    },
    {
      "metadata": {
        "id": "DK1v6UYH2Gw4",
        "colab_type": "code",
        "colab": {}
      },
      "cell_type": "code",
      "source": [
        "!pip install -U -q PyDrive\n",
        "!apt-get install cython\n",
        "!pip install planarity\n",
        "!pip install graphviz\n",
        "!apt-get install graphviz libgraphviz-dev pkg-config\n",
        "!pip install pygraphviz"
      ],
      "execution_count": 0,
      "outputs": []
    },
    {
      "metadata": {
        "id": "gSIw53la5k-C",
        "colab_type": "code",
        "colab": {}
      },
      "cell_type": "code",
      "source": [
        "import time\n",
        "import sys\n",
        "import networkx as nx\n",
        "import itertools as it\n",
        "import planarity \n",
        "import random\n",
        "from networkx.algorithms import bipartite\n",
        "import numpy as np\n",
        "import networkx as nx\n",
        "import matplotlib.pyplot as plt\n",
        "import pygraphviz as pgv\n",
        "\n",
        "from pydrive.auth import GoogleAuth\n",
        "from pydrive.drive import GoogleDrive\n",
        "from google.colab import auth\n",
        "from oauth2client.client import GoogleCredentials\n",
        "from google.colab import drive"
      ],
      "execution_count": 0,
      "outputs": []
    },
    {
      "metadata": {
        "id": "BBf38ruK9jPy",
        "colab_type": "code",
        "colab": {
          "base_uri": "https://localhost:8080/",
          "height": 124
        },
        "outputId": "02638b43-0b59-420f-8658-b6cd9945f8ba"
      },
      "cell_type": "code",
      "source": [
        "# auth.authenticate_user()\n",
        "# gauth = GoogleAuth()\n",
        "# gauth.credentials = GoogleCredentials.get_application_default()\n",
        "# drive = GoogleDrive(gauth)\n",
        "from google.colab import drive\n",
        "drive.mount('/content/drive')"
      ],
      "execution_count": 4,
      "outputs": [
        {
          "output_type": "stream",
          "text": [
            "Go to this URL in a browser: https://accounts.google.com/o/oauth2/auth?client_id=947318989803-6bn6qk8qdgf4n4g3pfee6491hc0brc4i.apps.googleusercontent.com&redirect_uri=urn%3Aietf%3Awg%3Aoauth%3A2.0%3Aoob&scope=email%20https%3A%2F%2Fwww.googleapis.com%2Fauth%2Fdocs.test%20https%3A%2F%2Fwww.googleapis.com%2Fauth%2Fdrive%20https%3A%2F%2Fwww.googleapis.com%2Fauth%2Fdrive.photos.readonly%20https%3A%2F%2Fwww.googleapis.com%2Fauth%2Fpeopleapi.readonly&response_type=code\n",
            "\n",
            "Enter your authorization code:\n",
            "··········\n",
            "Mounted at /content/drive\n"
          ],
          "name": "stdout"
        }
      ]
    },
    {
      "metadata": {
        "id": "UfeO8_-3977k",
        "colab_type": "code",
        "colab": {
          "base_uri": "https://localhost:8080/",
          "height": 295
        },
        "outputId": "961ae13c-61d0-48ff-d2a0-e0079c093e93"
      },
      "cell_type": "code",
      "source": [
        "!ls \"/content/drive/My Drive\""
      ],
      "execution_count": 8,
      "outputs": [
        {
          "output_type": "stream",
          "text": [
            "'2018201013_1 (1).cpp'\t\t        a.out\n",
            "'2018201013_1 (2).cpp'\t\t        APS_Project\n",
            " 2018201013_1.cpp\t\t        bar.txt\n",
            "'2018201013_1 - Prakash Nath Jha.cpp'  'Colab Notebooks'\n",
            "'2018201013_2 (1).cpp'\t\t        copyFile.cpp\n",
            "'2018201013_2 (2).cpp'\t\t        driverincpp.cpp\n",
            " 2018201013_2.cpp\t\t        everything.pdf\n",
            "'2018201013_2 - Prakash Nath Jha.cpp'   ls_function.cpp\n",
            "'2018201013_3 (1).cpp'\t\t        moveFile.cpp\n",
            "'2018201013_3 (2).cpp'\t\t        openFile.cpp\n",
            " 2018201013_3.cpp\t\t        resumePrakash.pdf\n",
            "'2018201013_3 - Prakash Nath Jha.cpp'   search.cpp\n",
            " 2018201013_4\t\t\t        sed_commands1.gdoc\n",
            "'2018201013_4 (1).cpp'\t\t        sed_commands2.gdoc\n",
            " 2018201013_4.cpp\t\t        test2.cpp\n",
            "'2018201013_4 - Prakash Nath Jha.cpp'   test.cpp\n"
          ],
          "name": "stdout"
        }
      ]
    },
    {
      "metadata": {
        "id": "fSbUfHCQBNeO",
        "colab_type": "code",
        "colab": {
          "base_uri": "https://localhost:8080/",
          "height": 52
        },
        "outputId": "b9fc4136-154e-42e0-bfaf-438f1c0549cd"
      },
      "cell_type": "code",
      "source": [
        "!pwd\n",
        "!cd \"/content/drive/My Drive/APS_Project\"\n",
        "!pwd"
      ],
      "execution_count": 5,
      "outputs": [
        {
          "output_type": "stream",
          "text": [
            "/content\n",
            "/content\n"
          ],
          "name": "stdout"
        }
      ]
    },
    {
      "metadata": {
        "id": "03NLcZzt4XYA",
        "colab_type": "code",
        "colab": {}
      },
      "cell_type": "code",
      "source": [
        "def floydWarshall(dist,vertices): \n",
        "\tfor k in range(vertices-1): \n",
        "\t\tfor i in range(vertices-1): \n",
        "\t\t\tfor j in range(vertices-1): \n",
        "\t\t\t\tdist[i][j] = min(dist[i][j],dist[i][k]+dist[k][j])"
      ],
      "execution_count": 0,
      "outputs": []
    },
    {
      "metadata": {
        "id": "qy7-C4QU4mRL",
        "colab_type": "code",
        "colab": {}
      },
      "cell_type": "code",
      "source": [
        "def DPC(graph,vertices):\n",
        "\n",
        "    for k in range(vertices-2, -1, -1):\n",
        "        for j in range(0,k):\n",
        "            for i in range(0,j):\n",
        "                if graph[i][k] != float('inf') and graph[k][j] != float('inf'):\n",
        "                    graph[i][j] = min(graph[i][j], graph[i][k]+graph[k][j])    \n",
        "                if graph[j][k] != float('inf') and graph[k][i] != float('inf'):\n",
        "                    graph[j][i] = min(graph[j][i], graph[j][k]+graph[k][i])\n",
        "                if graph[i][j]+graph[j][i] < 0:\n",
        "                    return False\n",
        "    return True ,graph"
      ],
      "execution_count": 0,
      "outputs": []
    },
    {
      "metadata": {
        "id": "fL1Mqh764rzd",
        "colab_type": "code",
        "colab": {}
      },
      "cell_type": "code",
      "source": [
        "def snowball(dist,vertices):\n",
        "    graph = dist\n",
        "    for k in range(vertices-1):\n",
        "        for j in range(k-1, 0, -1):\n",
        "            for i in range(0, k):\n",
        "                dist[i][k] = min(dist[i][k], dist[i][j]+graph[j][k])\n",
        "                dist[k][i] = min(dist[k][i], dist[j][i]+graph[k][j])\n"
      ],
      "execution_count": 0,
      "outputs": []
    },
    {
      "metadata": {
        "id": "w8afhLyB41kG",
        "colab_type": "code",
        "colab": {
          "base_uri": "https://localhost:8080/",
          "height": 380
        },
        "outputId": "36b34223-70d7-413b-e94b-d1b7c5026c8b"
      },
      "cell_type": "code",
      "source": [
        "vertex = [50,100,1000]\n",
        "\n",
        "def createMatrix(vertices):\n",
        "\n",
        "\t#************* Reading from file ****************************************\n",
        "\n",
        "\tfilename = '/content/drive/My Drive/APS_Project/planar_'+str(vertices)+'_nodes.txt'\n",
        "\n",
        "\tx,y = np.loadtxt(filename, delimiter = \"\\t\", unpack = True)\n",
        "\n",
        "\t#************************************************************************\n",
        "\n",
        "\t#************ Generating Incident Matrix ********************************\n",
        "\n",
        "\tG = nx.Graph()\n",
        "\tG.add_nodes_from([1,vertices])\n",
        "\n",
        "\n",
        "\tfor x1,y1 in zip(x,y):\n",
        "\t\tx1 = int(x1)\n",
        "\t\ty1 = int(y1)\n",
        "\t\tG.add_edge(x1,y1,weight = random.randint(1,1001))\n",
        "\n",
        "\t#**************************************************************************\n",
        "\n",
        "\t#************ Generating 2D adjacency matric ******************************\n",
        "\n",
        "\tA = nx.adjacency_matrix(G)\n",
        "\tb = A.todense()\n",
        "\n",
        "\tgr = []\n",
        "\tgr = nx.to_numpy_matrix(G)\n",
        "\tllist = []\n",
        "\tgraph = []\n",
        "\tcounter = 0\n",
        "\tc = 0\n",
        "\tfor x in np.nditer(gr):\n",
        "\t\tc += 1\n",
        "\t\tif counter == vertices:\n",
        "\t\t\tcounter = 0\n",
        "\t\t\tgraph.append(llist)\n",
        "\t\t\tllist = []\n",
        "\n",
        "\t\tif x == 0:\n",
        "\t\t\tllist.append(float('inf'))\n",
        "\t\t\tcounter += 1\n",
        "\t\telse:\n",
        "\t\t\tllist.append(int(x))\n",
        "\t\t\tcounter += 1\t\n",
        "\treturn graph\t\t\n",
        "\n",
        "#************************************************************************\n",
        "\n",
        "#***************** Executing and measuring time **************\n",
        "\n",
        "FTIME = []\n",
        "STIME = []\n",
        "\n",
        "for value in vertex:\n",
        "\n",
        "\tgraph = createMatrix(value)\n",
        "\n",
        "\tstart = time.time()\n",
        "\tfloydWarshall(graph,value)\n",
        "\tend = time.time()\n",
        "\tFTIME.append(end - start)\n",
        "\n",
        "\n",
        "\tflag, graph = DPC(graph,value)\t\t\n",
        "\n",
        "\tif flag == True:\n",
        "\t\tstart = time.time()\n",
        "\t\tsnowball(graph,value)\n",
        "\t\tend = time.time()\n",
        "\t\tSTIME.append(end - start)\n",
        "\n",
        "# for duration in FTIME:\n",
        "# \tprint duration\n",
        "\n",
        "# for duration in STIME:\n",
        "# \tprint duration\n",
        "\n",
        "plt.plot(vertex, FTIME, 'r--', label = 'Floyd Warshall Algorithm')\n",
        "plt.plot(vertex, STIME, 'b--', label = 'Snowball Algorithm')\t\n",
        "plt.xscale(\"log\")\n",
        "plt.xlabel('vertices')\n",
        "plt.ylabel('Running time (seconds)')\n",
        "plt.title('Comparision of Floyd Warshall Algorithm and Snowball Algorithm')\n",
        "plt.legend()\n",
        "plt.show()"
      ],
      "execution_count": 11,
      "outputs": [
        {
          "output_type": "display_data",
          "data": {
            "image/png": "[encoded data removed]",
            "text/plain": [
              "<matplotlib.figure.Figure at 0x7f7c92801050>"
            ]
          },
          "metadata": {
            "tags": []
          }
        }
      ]
    },
    {
      "metadata": {
        "id": "LG2nnTZm_Fh7",
        "colab_type": "code",
        "colab": {}
      },
      "cell_type": "code",
      "source": [
        ""
      ],
      "execution_count": 0,
      "outputs": []
    }
  ]
}