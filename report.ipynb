{
 "cells": [
  {
   "cell_type": "markdown",
   "metadata": {},
   "source": [
    "<h1><center>All Pairs Shotest Path Algorithm for Planar Graphs</center></h1>"
   ]
  },
  {
   "cell_type": "markdown",
   "metadata": {},
   "source": [
    "## 1 Introduction"
   ]
  },
  {
   "cell_type": "markdown",
   "metadata": {},
   "source": [
    "The all-pairs shortest path problem is the determination of the shortest graph distances between every pair of vertices in a given graph. The canonical way of solving this problem is by computing all pairs shortest paths (APSP) using the Floyd–Warshall algorithm, which runs in $O(n^3)$ where n is the number of vertices in the given graph. But in case of planar graph, we can exploit the fact that the graph is not dense and present **_Snowball_** algorithm which gives better running time complexity for the planar graphs."
   ]
  },
  {
   "cell_type": "markdown",
   "metadata": {},
   "source": [
    "## 2 Formulation of the problem"
   ]
  },
  {
   "cell_type": "markdown",
   "metadata": {},
   "source": [
    "**Definition**: Planar Graph\n",
    "\n",
    "![Planar Graph](https://upload.wikimedia.org/wikipedia/commons/thumb/a/ad/Dodecahedron_schlegel_diagram.png/248px-Dodecahedron_schlegel_diagram.png \"regular dodecahedron\")"
   ]
  },
  {
   "cell_type": "markdown",
   "metadata": {},
   "source": [
    "Let $G=(V,E)$ be a given graph with edge weights $f(e), e∈E$. The sequence $P(u,v)$ of edges $e_1=(u,w_1),e_2=(w_1,w_2), …, e_k=(w_k−1,v)$ is called a \"path from the vertex u to v. We say that v is reachable from u if there exists at least one path $P(u,v)$. The total weight of this path is $$f(P(u,v))=\\sum_{i=1}^{k} f(e_i)$$\n",
    "\n",
    "For each vertex pair $(u,v)$ such that v is reachable from u, it is required to indicate a path $P∗(u,v)$ having the minimum possible total weight: $f∗(u,v)=f(P∗(u,v))=minf(P(u,v))$."
   ]
  },
  {
   "cell_type": "markdown",
   "metadata": {},
   "source": [
    "### 2.1 Exploiting average degree Heuristic of vertex in planar graph"
   ]
  },
  {
   "cell_type": "markdown",
   "metadata": {},
   "source": [
    "Connected planar graphs with more than one edge obey the inequality $2 e \\ge 3 f$, because each face has at least three face-edge incidences and each edge contributes exactly two incidences. It follows via algebraic transformations of this inequality with Euler's formula $v − e + f = 2$ that for finite planar graphs the average degree is **strictly less than 6**. Graphs with higher average degree cannot be planar.\n",
    "\n",
    "Thus we can make use of the average degree heuristic of a vertex to compute all pairs shortest path with better time complexity than standard Floyd-Warshall algorithm.\n",
    "\n",
    "The Snowball algorithm computes all-pairs shortest paths in $O (n^2 w_d)$ time where $w_d$ is the tree width of the input graph. In our case of planar graph we know from Planar Seperator Theorem that for a planar graph tree width is $O(\\sqrt{n})$. Thus for planar graph Snowball algorithm takes effectively $O(n^2*\\sqrt{n})$ which is an improvement in comparision to Floyd Warshall which takes $O(n^3)$ for planar graph"
   ]
  },
  {
   "cell_type": "markdown",
   "metadata": {},
   "source": [
    "## 3 Preliminaries"
   ]
  },
  {
   "cell_type": "markdown",
   "metadata": {},
   "source": [
    "The Snowball algorithmm for all-pairs shortest paths rely on the fact that the graph has already been made\n",
    "directionally path-consistent (DPC)."
   ]
  },
  {
   "cell_type": "markdown",
   "metadata": {},
   "source": [
    "### 3.1 Directed Path Consistency"
   ]
  },
  {
   "cell_type": "markdown",
   "metadata": {},
   "source": [
    "A graph is said to be consistent when the graph contains no negative cycles. This algorithm takes as input a weighted directed graph $G = (V, E)$ and a vertex ordering d, which is a bijection between V and the natural numbers {1, . . . , n}. "
   ]
  },
  {
   "cell_type": "markdown",
   "metadata": {},
   "source": [
    "#### 3.1.1 Notations"
   ]
  },
  {
   "cell_type": "markdown",
   "metadata": {},
   "source": [
    "$w_{i→j}$ : Weight on the arc from vertex i to j<br/>\n",
    "$\\{i, j\\}∈E$ : Existence of an arc between these vertices, in either direction<br/>\n",
    "$G_k$ : graph induced on vertices $\\{1, . . . , k\\}$, thus $G_n = G$"
   ]
  },
  {
   "cell_type": "markdown",
   "metadata": {},
   "source": [
    "#### 3.1.2 DPC Working"
   ]
  },
  {
   "cell_type": "markdown",
   "metadata": {},
   "source": [
    "In iteration k, the algorithm adds edges (in line 5) between all pairs of lower-numbered neighbours i, j of k, thus triangulating the graph. Meaning if there is a path exist in the graph from i→k and k→j then a direct edge added between i→j. A defining property of DPC is that it ensures that w i→j is no higher than the total weight of this path. This implies in particular that after running DPC, $w_{1→2}$ and $w_{2→1}$ are labelled by the shortest paths between vertices 1 and 2. The edges added by DPC are called fill edges and make the graph triangulated. \n"
   ]
  },
  {
   "cell_type": "markdown",
   "metadata": {},
   "source": [
    "#### 3.1.3 Algorithm : DPC (Dechter, Meiri, and Pearl 1991)"
   ]
  },
  {
   "cell_type": "markdown",
   "metadata": {},
   "source": [
    "**Input**: A weighted directed graph $G = (V, E)$ and a vertex ordering $d : V → {1, . . . , n}$<br/>\n",
    "\t**Output**: _CONSISTENT_ if DPC could be enforced on G;<br/>\n",
    "\t&nbsp;&nbsp;&nbsp;&nbsp;&nbsp;&nbsp;&nbsp;&nbsp;&nbsp;&nbsp;&nbsp;&nbsp;_INCONSISTENT_ if a negative cycle was found<br/>\n",
    "1\t**for** $k ← n$ to $1$ do:<br/>\n",
    "2\t&nbsp;&nbsp;&nbsp;&nbsp;&nbsp;&nbsp;\n",
    "\t**forall** $i < j < k$ such that ${i, k}$, ${j, k} ∈ E$ do:<br/>\n",
    "3\t&nbsp;&nbsp;&nbsp;&nbsp;&nbsp;&nbsp;\n",
    "\t$w_{i→j} ← min${$w_{i→j} , w_{i→k} + w_{k→j}$}<br/>\n",
    "4\t&nbsp;&nbsp;&nbsp;&nbsp;&nbsp;&nbsp;\n",
    "\t$w_{j→i} ← min${$w_{j→i} , w_{j→k} + w_{k→i} $}<br/>\n",
    "5\t&nbsp;&nbsp;&nbsp;&nbsp;&nbsp;&nbsp;\n",
    "\t$E ← E$ $ ∪ $ {${i, j}$}<br/>\n",
    "6\t&nbsp;&nbsp;&nbsp;&nbsp;&nbsp;&nbsp;\n",
    "\tif $w_{i→j} + w_{j→i}$ $ < 0 $ then<br/>\n",
    "7\t&nbsp;&nbsp;&nbsp;&nbsp;&nbsp;&nbsp;&nbsp;&nbsp;&nbsp;&nbsp;&nbsp;&nbsp;\n",
    "\treturn **INCONSISTENT**<br/>\n",
    "8\treturn **CONSISTENT**<br/>"
   ]
  },
  {
   "cell_type": "markdown",
   "metadata": {},
   "source": [
    "#### 3.1.4 DPC Time Complexity"
   ]
  },
  {
   "cell_type": "markdown",
   "metadata": {},
   "source": [
    "The run time of DPC $O(n*w_d^2)$ where $w_d$ is the induced width which is exactly the highest number of neighbours $j < k$ encountered during the DPC algorithm. "
   ]
  },
  {
   "cell_type": "markdown",
   "metadata": {},
   "source": [
    "## 4 Snowball Algorithm"
   ]
  },
  {
   "cell_type": "markdown",
   "metadata": {},
   "source": [
    "The snowball algorithm computes APSP that has the same worst-case time bounds but is more efficient about it when the input graph is planner and directed path consistent.<br/>\n",
    "The idea behind the algorithm is that we grow a clique of computed distances, one vertex at a time, starting with the trivial clique consisting of just vertex 1. When adding vertex k to the clique, we compute the distance to (from) each vertex $i < k$. We are then ensured by DPC that there exists a shortest path to (from) i that has an edge $\\{k, j\\}$ for some $j < k$ as its first (last) edge. This means that the algorithm only needs to look “_down_” at lower-numbered vertices.<br/>\n",
    "The name of our algorithm derives from its “_snowball effect_”: the clique of computed distances grows quadratically during the course of its operation."
   ]
  },
  {
   "cell_type": "markdown",
   "metadata": {},
   "source": [
    "**Input** : Weighted directed **DPC** graph $G = (V, A)$\t\n",
    "**Output** : Distance matrix D<br/>\n",
    "\n",
    "1&nbsp;&nbsp;&nbsp;$∀i, j ∈ V : D[i][j] ← ∞$<br/>\n",
    "2&nbsp;&nbsp;&nbsp;$∀i ∈ V : D[i][i] ← 0$<br/>\n",
    "3&nbsp;&nbsp;&nbsp;**for** $k ← 1$ **to** n **do**<br/>\n",
    "4&nbsp;&nbsp;&nbsp;&nbsp;&nbsp;&nbsp;\n",
    "&nbsp;&nbsp;&nbsp;**forall** $j < k$ **such that** {$j, k$} $∈ E$ **do**<br/>\n",
    "5&nbsp;&nbsp;&nbsp;&nbsp;&nbsp;&nbsp;\n",
    "&nbsp;&nbsp;&nbsp;**forall** $i ∈$ {$1, . . . , k − 1$} **do**<br/>\n",
    "6&nbsp;&nbsp;&nbsp;&nbsp;&nbsp;&nbsp;&nbsp;&nbsp;&nbsp;&nbsp;&nbsp;&nbsp;\n",
    "&nbsp;&nbsp;&nbsp;$D[i][k]$ $ ← $ $min${$ D[i][k] ,  D[i][j] + w_{j→k} $ }<br/>\n",
    "7&nbsp;&nbsp;&nbsp;&nbsp;&nbsp;&nbsp;&nbsp;&nbsp;&nbsp;&nbsp;&nbsp;&nbsp;\n",
    "&nbsp;&nbsp;&nbsp;$D[k][i]$ $ ← $ $min${$ D[k][i], w_{k→j} + D[j][i] $ }<br/>\n",
    "8&nbsp;&nbsp;&nbsp;**return** D<br/>"
   ]
  },
  {
   "cell_type": "markdown",
   "metadata": {},
   "source": [
    "### 4.2 Theorem: The Snowball algorithm computes all-pairs shortest paths in $O (n^2 w_d)$ time."
   ]
  },
  {
   "cell_type": "markdown",
   "metadata": {},
   "source": [
    "**Proof:** The proof is by induction. After enforcing DPC, $w_{1→2}$ and $w_{2→1}$ are labelled by the shortest path between vertices 1 and 2. For $k = 2$ and $i = j = 1$, the algorithm then sets $D[1][2]$ and $D[2][1]$ to the correct values.<br/>\n",
    "Now, assume that $D[i][j]$ is set correctly for all vertices $i, j < k$. Let $π : i = v_0 → v_1 → · · · → v_{l−1} → v_l = k$ be a shortest path from i to k, and let $h_{max} = max\\{h |v_h ∈ π\\}$. By DPC, if $h_{max} > k$, there exists a path of the same weight where a shortcut $v_{h_{max} −1} → v_{h_{max} +1}$ is taken.<br/>\n",
    "This argument can be repeated to conclude that there must exist a shortest path $π'$ from i to k that lies completely in $G_k$ and, except for the last arc, in $G_{k−1}$. Thus, by the induction hypothesis and the observation that the algorithm considers all arcs from the subgraph $G_{k−1}$ to k, $D[i][k]$ is set to the correct value. An analogous argument holds for $D[k][i]$. \n",
    "With regard to the algorithm’s time complexity, note that the two outermost loops together result in each of the $m_c$ edges in the chordal graph being visited exactly once. The inner loop always has fewer than n iterations, yielding a run time of $O (nm_c )$ time. From the observation above that $m_c \\le nw_d$ , we can also state a looser time bound of $O (n^2 w_d)$.<br/>\n",
    "\n",
    "In our case of planar graph we know from Planar Seperator Theorem that for a planar graph tree width is $O(\\sqrt{n})$. Thus for planar graph Snowball algorithm takes effectively $O(n^2\\sqrt{n})$."
   ]
  },
  {
   "cell_type": "markdown",
   "metadata": {},
   "source": [
    "## 5 Comparison of Snowball algorithm with Floyd-Warshall algorithm"
   ]
  },
  {
   "cell_type": "markdown",
   "metadata": {},
   "source": [
    "APSP for planar graph of different sizes (10, 50, 100, 500, 1000) have been used for testing during the course of the this project to compare the performance of snowball algorithm against Floyd-Warshall algorithm and results generated as below."
   ]
  },
  {
   "cell_type": "code",
   "execution_count": null,
   "metadata": {},
   "outputs": [],
   "source": []
  }
 ],
 "metadata": {
  "kernelspec": {
   "display_name": "Python 2",
   "language": "python",
   "name": "python2"
  },
  "language_info": {
   "codemirror_mode": {
    "name": "ipython",
    "version": 2
   },
   "file_extension": ".py",
   "mimetype": "text/x-python",
   "name": "python",
   "nbconvert_exporter": "python",
   "pygments_lexer": "ipython2",
   "version": "2.7.15rc1"
  }
 },
 "nbformat": 4,
 "nbformat_minor": 2
}
