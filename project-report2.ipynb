{
 "cells": [
  {
   "cell_type": "markdown",
   "metadata": {
    "colab_type": "text",
    "id": "view-in-github"
   },
   "source": [
    "<a href=\"https://colab.research.google.com/github/pnjha/APS_Project/blob/master/Report.ipynb\" target=\"_parent\"><img src=\"https://colab.research.google.com/assets/colab-badge.svg\" alt=\"Open In Colab\"/></a>"
   ]
  },
  {
   "cell_type": "code",
   "execution_count": 2,
   "metadata": {
    "colab": {},
    "colab_type": "code",
    "id": "DK1v6UYH2Gw4"
   },
   "outputs": [
    {
     "name": "stdout",
     "output_type": "stream",
     "text": [
      "E: Could not open lock file /var/lib/dpkg/lock - open (13: Permission denied)\n",
      "E: Unable to lock the administration directory (/var/lib/dpkg/), are you root?\n",
      "Collecting planarity\n",
      "Collecting cython (from planarity)\n",
      "  Using cached https://files.pythonhosted.org/packages/85/29/ccdbce68ba5fb97fd11c08e3cc79576f13e6e300d32a7953cd4c878c0996/Cython-0.29-cp27-cp27mu-manylinux1_x86_64.whl\n",
      "Collecting setuptools (from planarity)\n",
      "  Using cached https://files.pythonhosted.org/packages/82/a1/ba6fb41367b375f5cb653d1317d8ca263c636cff6566e2da1b0da716069d/setuptools-40.5.0-py2.py3-none-any.whl\n",
      "Installing collected packages: cython, setuptools, planarity\n",
      "Successfully installed cython-0.29 planarity-0.4.1 setuptools-40.5.0\n",
      "Collecting graphviz\n",
      "  Using cached https://files.pythonhosted.org/packages/1f/e2/ef2581b5b86625657afd32030f90cf2717456c1d2b711ba074bf007c0f1a/graphviz-0.10.1-py2.py3-none-any.whl\n",
      "Installing collected packages: graphviz\n",
      "Successfully installed graphviz-0.10.1\n",
      "E: Could not open lock file /var/lib/dpkg/lock - open (13: Permission denied)\n",
      "E: Unable to lock the administration directory (/var/lib/dpkg/), are you root?\n",
      "Collecting pygraphviz\n",
      "Installing collected packages: pygraphviz\n",
      "Successfully installed pygraphviz-1.5\n"
     ]
    }
   ],
   "source": [
    "!pip install -U -q PyDrive\n",
    "!apt-get install cython\n",
    "!pip install planarity\n",
    "!pip install graphviz\n",
    "!apt-get install graphviz libgraphviz-dev pkg-config\n",
    "!pip install pygraphviz"
   ]
  },
  {
   "cell_type": "code",
   "execution_count": 3,
   "metadata": {
    "colab": {},
    "colab_type": "code",
    "id": "gSIw53la5k-C"
   },
   "outputs": [],
   "source": [
    "import time\n",
    "import sys\n",
    "import networkx as nx\n",
    "import itertools as it\n",
    "import planarity \n",
    "import random\n",
    "from networkx.algorithms import bipartite\n",
    "import numpy as np\n",
    "import networkx as nx\n",
    "import matplotlib.pyplot as plt\n",
    "import pygraphviz as pgv\n"
   ]
  },
  {
   "cell_type": "code",
   "execution_count": 4,
   "metadata": {
    "colab": {},
    "colab_type": "code",
    "id": "03NLcZzt4XYA"
   },
   "outputs": [],
   "source": [
    "def floydWarshall(dist,vertices): \n",
    "\tfor k in range(vertices-1): \n",
    "\t\tfor i in range(vertices-1): \n",
    "\t\t\tfor j in range(vertices-1): \n",
    "\t\t\t\tdist[i][j] = min(dist[i][j],dist[i][k]+dist[k][j])"
   ]
  },
  {
   "cell_type": "code",
   "execution_count": 5,
   "metadata": {
    "colab": {},
    "colab_type": "code",
    "id": "qy7-C4QU4mRL"
   },
   "outputs": [],
   "source": [
    "def DPC(graph,vertices):\n",
    "\n",
    "    for k in range(vertices-2, -1, -1):\n",
    "        for j in range(0,k):\n",
    "            for i in range(0,j):\n",
    "                if graph[i][k] != float('inf') and graph[k][j] != float('inf'):\n",
    "                    graph[i][j] = min(graph[i][j], graph[i][k]+graph[k][j])    \n",
    "                if graph[j][k] != float('inf') and graph[k][i] != float('inf'):\n",
    "                    graph[j][i] = min(graph[j][i], graph[j][k]+graph[k][i])\n",
    "                if graph[i][j]+graph[j][i] < 0:\n",
    "                    return False\n",
    "    return True ,graph"
   ]
  },
  {
   "cell_type": "code",
   "execution_count": 6,
   "metadata": {
    "colab": {},
    "colab_type": "code",
    "id": "fL1Mqh764rzd"
   },
   "outputs": [],
   "source": [
    "def snowball(dist,vertices):\n",
    "    graph = dist\n",
    "    for k in range(vertices-1):\n",
    "        for j in range(k-1, 0, -1):\n",
    "            for i in range(0, k):\n",
    "                dist[i][k] = min(dist[i][k], dist[i][j]+graph[j][k])\n",
    "                dist[k][i] = min(dist[k][i], dist[j][i]+graph[k][j])\n"
   ]
  },
  {
   "cell_type": "code",
   "execution_count": 7,
   "metadata": {},
   "outputs": [],
   "source": [
    "def createMatrix(vertices):\n",
    "\n",
    "\t#************* Reading from file ****************************************\n",
    "\n",
    "\tfilename = 'planar_'+str(vertices)+'_nodes.txt'\n",
    "\n",
    "\tx,y,z= np.loadtxt(filename, delimiter = \"\\t\", unpack = True)\n",
    "\n",
    "\t#************************************************************************\n",
    "\n",
    "\t#************ Generating Incident Matrix ********************************\n",
    "\n",
    "\tG = nx.Graph()\n",
    "\tG.add_nodes_from([1,vertices])\n",
    "\n",
    "\n",
    "\tfor x1,y1,z1 in zip(x,y,z):\n",
    "\t\tx1 = int(x1)\n",
    "\t\ty1 = int(y1)\n",
    "\t\tz1 = int(z1)        \n",
    "\t\tG.add_edge(x1,y1,weight = z1)\n",
    "\n",
    "\t#**************************************************************************\n",
    "\n",
    "\t#************ Generating 2D adjacency matric ******************************\n",
    "\n",
    "\tA = nx.adjacency_matrix(G)\n",
    "\tb = A.todense()\n",
    "\n",
    "\tgr = []\n",
    "\tgr = nx.to_numpy_matrix(G)\n",
    "\tllist = []\n",
    "\tgraph = []\n",
    "\tcounter = 0\n",
    "\tc = 0\n",
    "\tfor x in np.nditer(gr):\n",
    "\t\tc += 1\n",
    "\t\tif counter == vertices:\n",
    "\t\t\tcounter = 0\n",
    "\t\t\tgraph.append(llist)\n",
    "\t\t\tllist = []\n",
    "\n",
    "\t\tif x == 0:\n",
    "\t\t\tllist.append(float('inf'))\n",
    "\t\t\tcounter += 1\n",
    "\t\telse:\n",
    "\t\t\tllist.append(int(x))\n",
    "\t\t\tcounter += 1\t\n",
    "\treturn graph\t\t\n",
    "\n"
   ]
  },
  {
   "cell_type": "code",
   "execution_count": 64,
   "metadata": {},
   "outputs": [
    {
     "name": "stdout",
     "output_type": "stream",
     "text": [
      "4\n"
     ]
    },
    {
     "data": {
      "image/png": "[encoded data removed]",
      "text/plain": [
       "<Figure size 432x288 with 1 Axes>"
      ]
     },
     "metadata": {},
     "output_type": "display_data"
    }
   ],
   "source": [
    "vertices = 4\n",
    "graph = createMatrix(vertices)\n",
    "flag, graph = DPC(graph,vertices)\n",
    "plotGraph(graph,vertices)"
   ]
  },
  {
   "cell_type": "code",
   "execution_count": null,
   "metadata": {
    "colab": {
     "base_uri": "https://localhost:8080/",
     "height": 380
    },
    "colab_type": "code",
    "id": "w8afhLyB41kG",
    "outputId": "36b34223-70d7-413b-e94b-d1b7c5026c8b"
   },
   "outputs": [],
   "source": [
    "vertex = [10,50,100,500,1000]\n",
    "\n",
    "#************************************************************************\n",
    "\n",
    "#***************** Executing and measuring time **************\n",
    "\n",
    "FTIME = []\n",
    "STIME = []\n",
    "\n",
    "for value in vertex:\n",
    "\n",
    "\tgraph = createMatrix(value)\n",
    "\n",
    "\tstart = time.time()\n",
    "\tfloydWarshall(graph,value)\n",
    "\tend = time.time()\n",
    "\tFTIME.append(end - start)\n",
    "\n",
    "\n",
    "\tflag, graph = DPC(graph,value)\t\t\n",
    "\n",
    "\tif flag == True:\n",
    "\t\tstart = time.time()\n",
    "\t\tsnowball(graph,value)\n",
    "\t\tend = time.time()\n",
    "\t\tSTIME.append(end - start)\n",
    "\n",
    "# for duration in FTIME:\n",
    "# \tprint duration\n",
    "\n",
    "# for duration in STIME:\n",
    "# \tprint duration\n",
    "\n",
    "# plotGraph()\n",
    "\n",
    "plt.plot(vertex, FTIME, 'r--', label = 'Floyd Warshall Algorithm')\n",
    "plt.plot(vertex, STIME, 'b--', label = 'Snowball Algorithm')\t\n",
    "plt.yscale(\"log\")\n",
    "plt.xlabel('vertices')\n",
    "plt.ylabel('Running time (seconds,log scale)')\n",
    "plt.title('Comparision of Floyd Warshall Algorithm and Snowball Algorithm')\n",
    "plt.legend()\n",
    "plt.show()"
   ]
  },
  {
   "cell_type": "code",
   "execution_count": null,
   "metadata": {},
   "outputs": [],
   "source": []
  },
  {
   "cell_type": "code",
   "execution_count": 63,
   "metadata": {},
   "outputs": [],
   "source": [
    "def plotGraph(graph,vertices):\n",
    "    G = nx.Graph()\n",
    "    print vertices\n",
    "    for x in range(0, vertices-1, 1):\n",
    "        for y in range(0, vertices-1, 1):\n",
    "            if graph[x][y] != float('inf'):\n",
    "                x = int(x)\n",
    "                y = int(y)\n",
    "                G.add_edge(x,y,weight = graph[x][y])\n",
    "    \n",
    "    nx.draw(G, with_labels=True) "
   ]
  }
 ],
 "metadata": {
  "accelerator": "GPU",
  "colab": {
   "collapsed_sections": [],
   "include_colab_link": true,
   "name": "Untitled0.ipynb",
   "provenance": [],
   "version": "0.3.2"
  },
  "kernelspec": {
   "display_name": "Python 2",
   "language": "python",
   "name": "python2"
  },
  "language_info": {
   "codemirror_mode": {
    "name": "ipython",
    "version": 2
   },
   "file_extension": ".py",
   "mimetype": "text/x-python",
   "name": "python",
   "nbconvert_exporter": "python",
   "pygments_lexer": "ipython2",
   "version": "2.7.15rc1"
  }
 },
 "nbformat": 4,
 "nbformat_minor": 1
}
